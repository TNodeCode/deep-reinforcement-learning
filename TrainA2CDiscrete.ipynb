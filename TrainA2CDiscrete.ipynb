{
 "cells": [
  {
   "cell_type": "markdown",
   "metadata": {},
   "source": [
    "# Train Agent on Gymnasium Environment"
   ]
  },
  {
   "cell_type": "code",
   "execution_count": null,
   "metadata": {},
   "outputs": [],
   "source": [
    "import torch\n",
    "from src.agent.a2c_discrete import A2CDiscreteAgent\n",
    "from src.trainer.trainer import Trainer\n",
    "from src.environment.gymnasium import GymnasiumEnvironment, VisualGymnasiumEnvironment\n",
    "\n",
    "%matplotlib inline\n",
    "import os\n",
    "\n",
    "%load_ext autoreload\n",
    "%autoreload 2"
   ]
  },
  {
   "cell_type": "code",
   "execution_count": null,
   "metadata": {},
   "outputs": [],
   "source": [
    "env = env = GymnasiumEnvironment(name=\"LunarLander-v3\")\n",
    "device = \"cuda\" if torch.cuda.is_available() else \"cpu\"\n",
    "agent = A2CDiscreteAgent(\n",
    "    env=env,\n",
    "    lr=5e-2,\n",
    "    gamma=0.99,\n",
    "    hidden_dims=[64],\n",
    "    device=device,\n",
    "    n_agents=16,\n",
    "    max_steps=500,\n",
    ")\n",
    "trainer = Trainer(env=env, agent=agent, device=device)\n",
    "trainer.train(\n",
    "    n_epochs=5000,\n",
    ")"
   ]
  },
  {
   "cell_type": "code",
   "execution_count": null,
   "metadata": {},
   "outputs": [],
   "source": [
    "env.close()"
   ]
  },
  {
   "cell_type": "code",
   "execution_count": null,
   "metadata": {},
   "outputs": [],
   "source": []
  }
 ],
 "metadata": {
  "kernelspec": {
   "display_name": "rl",
   "language": "python",
   "name": "python3"
  },
  "language_info": {
   "codemirror_mode": {
    "name": "ipython",
    "version": 3
   },
   "file_extension": ".py",
   "mimetype": "text/x-python",
   "name": "python",
   "nbconvert_exporter": "python",
   "pygments_lexer": "ipython3",
   "version": "3.10.12"
  }
 },
 "nbformat": 4,
 "nbformat_minor": 2
}
