{
 "cells": [
  {
   "cell_type": "markdown",
   "metadata": {},
   "source": [
    "# Train Agent on Gymnasium Environment"
   ]
  },
  {
   "cell_type": "code",
   "execution_count": null,
   "metadata": {},
   "outputs": [],
   "source": [
    "import numpy as np\n",
    "import torch\n",
    "from src.agent.ddpg import DDPGAgent\n",
    "from src.trainer.trainer import Trainer\n",
    "from src.environment.gymnasium import GymnasiumEnvironment, VisualGymnasiumEnvironment\n",
    "\n",
    "%matplotlib inline\n",
    "import os\n",
    "\n",
    "%load_ext autoreload\n",
    "%autoreload 2"
   ]
  },
  {
   "cell_type": "code",
   "execution_count": null,
   "metadata": {},
   "outputs": [],
   "source": [
    "env = GymnasiumEnvironment(name=\"BipedalWalker-v3\")\n",
    "device = \"cuda\" if torch.cuda.is_available() else \"cpu\"\n",
    "agent = DDPGAgent(\n",
    "    env=env,\n",
    "    device=device,\n",
    "    lr_actor=1e-4,\n",
    "    lr_critic=3e-4,\n",
    "    hidden_dims_actor=[64],\n",
    "    hidden_dims_critic=[64],\n",
    "    memory_size=int(1e5),\n",
    "    batch_size=128,\n",
    "    max_steps=1_000,\n",
    ")\n",
    "trainer = Trainer(env=env, agent=agent, device=device)\n",
    "try:\n",
    "    trainer.train(\n",
    "        n_epochs=5000,\n",
    "    )\n",
    "except KeyboardInterrupt as e:\n",
    "    env.close()\n",
    "    print(\"Environment closed\")\n"
   ]
  },
  {
   "cell_type": "code",
   "execution_count": null,
   "metadata": {},
   "outputs": [],
   "source": [
    "env.close()"
   ]
  },
  {
   "cell_type": "code",
   "execution_count": null,
   "metadata": {},
   "outputs": [],
   "source": [
    "agent.save()"
   ]
  },
  {
   "cell_type": "code",
   "execution_count": null,
   "metadata": {},
   "outputs": [],
   "source": []
  }
 ],
 "metadata": {
  "kernelspec": {
   "display_name": "rl",
   "language": "python",
   "name": "python3"
  },
  "language_info": {
   "codemirror_mode": {
    "name": "ipython",
    "version": 3
   },
   "file_extension": ".py",
   "mimetype": "text/x-python",
   "name": "python",
   "nbconvert_exporter": "python",
   "pygments_lexer": "ipython3",
   "version": "3.10.12"
  }
 },
 "nbformat": 4,
 "nbformat_minor": 2
}
