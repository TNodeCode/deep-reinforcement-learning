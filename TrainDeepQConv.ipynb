{
 "cells": [
  {
   "cell_type": "markdown",
   "metadata": {},
   "source": [
    "# Train Agent on Gymnasium Environment"
   ]
  },
  {
   "cell_type": "code",
   "execution_count": null,
   "metadata": {},
   "outputs": [],
   "source": [
    "import torch\n",
    "import numpy as np\n",
    "from src.agent.deepconvq import DeepConvQAgent\n",
    "from src.trainer.trainer import Trainer\n",
    "from src.environment.gymnasium import VisualGymnasiumEnvironment\n",
    "\n",
    "%matplotlib inline\n",
    "import os\n",
    "\n",
    "%load_ext autoreload\n",
    "%autoreload 2\n",
    "\n",
    "env_names = [\"LunarLander-v3\", \"MountainCar-v0\", \"CartPole-v1\"]\n",
    "idx = 0\n",
    "device = \"cuda\" if torch.cuda.is_available() else \"cpu\"\n",
    "\n",
    "print(\"Game\", env_names[idx], \"Device\", device)"
   ]
  },
  {
   "cell_type": "code",
   "execution_count": null,
   "metadata": {},
   "outputs": [],
   "source": [
    "env = VisualGymnasiumEnvironment(name=env_names[idx])\n",
    "env.reset()\n",
    "env.step(np.array([[0]]))\n",
    "agent = DeepConvQAgent(\n",
    "    env=env,\n",
    "    device=device,\n",
    "    lr=5e-3,\n",
    "    memory_size=int(1e6),\n",
    "    hidden_dims=[64],\n",
    "    update_every=10,\n",
    "    batch_size=64\n",
    ")\n",
    "trainer = Trainer(env=env, agent=agent, device=device)\n",
    "trainer.train(\n",
    "    n_epochs=5000,\n",
    "    eps_start=1.0,\n",
    "    eps_end=0.01,\n",
    "    eps_decay=0.995\n",
    ")"
   ]
  },
  {
   "cell_type": "code",
   "execution_count": null,
   "metadata": {},
   "outputs": [],
   "source": []
  }
 ],
 "metadata": {
  "kernelspec": {
   "display_name": "spine",
   "language": "python",
   "name": "python3"
  },
  "language_info": {
   "codemirror_mode": {
    "name": "ipython",
    "version": 3
   },
   "file_extension": ".py",
   "mimetype": "text/x-python",
   "name": "python",
   "nbconvert_exporter": "python",
   "pygments_lexer": "ipython3",
   "version": "3.11.11"
  }
 },
 "nbformat": 4,
 "nbformat_minor": 2
}
