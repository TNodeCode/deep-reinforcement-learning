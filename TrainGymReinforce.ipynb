{
 "cells": [
  {
   "cell_type": "markdown",
   "metadata": {},
   "source": [
    "# Train Agent on Gymnasium Environment"
   ]
  },
  {
   "cell_type": "code",
   "execution_count": null,
   "metadata": {},
   "outputs": [],
   "source": [
    "import numpy as np\n",
    "import torch\n",
    "from src.agent.reinforce import ReinforceAgent\n",
    "from src.trainer.trainer import Trainer\n",
    "from src.environment.gymnasium import GymnasiumEnvironment, VisualGymnasiumEnvironment\n",
    "\n",
    "%matplotlib inline\n",
    "import os\n",
    "\n",
    "%load_ext autoreload\n",
    "%autoreload 2"
   ]
  },
  {
   "cell_type": "code",
   "execution_count": null,
   "metadata": {},
   "outputs": [],
   "source": [
    "env = GymnasiumEnvironment(name=\"ALE/Breakout-v5\", obs_type=\"ram\")\n",
    "device = \"cuda\" if torch.cuda.is_available() else \"cpu\"\n",
    "agent = ReinforceAgent(\n",
    "    env=env,\n",
    "    device=device,\n",
    "    lr=5e-4,\n",
    "    hidden_dims=[64],\n",
    "    max_steps=500,\n",
    ")\n",
    "trainer = Trainer(env=env, agent=agent, device=device)\n",
    "try:\n",
    "    trainer.train(\n",
    "        n_epochs=5000,\n",
    "        eps_start=1.0,\n",
    "        eps_end=0.05,\n",
    "        eps_decay=0.995\n",
    "    )\n",
    "except KeyboardInterrupt as e:\n",
    "    env.close()\n",
    "    print(\"Environment closed\")"
   ]
  },
  {
   "cell_type": "code",
   "execution_count": null,
   "metadata": {},
   "outputs": [],
   "source": [
    "env.close()"
   ]
  },
  {
   "cell_type": "code",
   "execution_count": null,
   "metadata": {},
   "outputs": [],
   "source": [
    "agent.save()"
   ]
  }
 ],
 "metadata": {
  "kernelspec": {
   "display_name": "rl",
   "language": "python",
   "name": "python3"
  },
  "language_info": {
   "codemirror_mode": {
    "name": "ipython",
    "version": 3
   },
   "file_extension": ".py",
   "mimetype": "text/x-python",
   "name": "python",
   "nbconvert_exporter": "python",
   "pygments_lexer": "ipython3",
   "version": "3.10.12"
  }
 },
 "nbformat": 4,
 "nbformat_minor": 2
}
